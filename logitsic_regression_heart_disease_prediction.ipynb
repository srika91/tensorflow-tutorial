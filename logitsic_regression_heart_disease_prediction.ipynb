{
 "cells": [
  {
   "cell_type": "code",
   "execution_count": 1,
   "metadata": {
    "collapsed": true
   },
   "outputs": [],
   "source": [
    "import tensorflow as tf\n",
    "import numpy as np"
   ]
  },
  {
   "cell_type": "code",
   "execution_count": 2,
   "metadata": {
    "collapsed": true
   },
   "outputs": [],
   "source": [
    "Batch_Size = 5\n",
    "feature_size = 9\n",
    "def get_feature_label(filenames_list):\n",
    "    filename_queue = tf.train.string_input_producer(filenames_list)\n",
    "    reader = tf.TextLineReader(skip_header_lines=1)\n",
    "    key,value = reader.read(filename_queue)\n",
    "    record_defaults = [[1.0] for i in range(9)]\n",
    "    record_defaults[4] = ['']\n",
    "    record_defaults.append([1])\n",
    "    content = tf.decode_csv(value,record_defaults=record_defaults)\n",
    "    condition = tf.equal(content[4],tf.constant('Present'))\n",
    "    content[4] = tf.select(condition,tf.constant(1.0),tf.constant(0.0))\n",
    "    features = tf.pack(content[:feature_size])\n",
    "    label = content[-1]\n",
    "\n",
    "\n",
    "    minimum_after_dequeue = 10*Batch_Size\n",
    "    #capacity: Recommendation:   min_after_dequeue + \n",
    "    #(num_threads + a small safety margin) * batch_size\n",
    "    capacity = 1.5*minimum_after_dequeue\n",
    "    data_batch,label_batch = tf.train.shuffle_batch([features,label],batch_size=Batch_Size,\n",
    "                                                   capacity=capacity,min_after_dequeue=minimum_after_dequeue)\n",
    "    #label_batch = tf.reshape(label_batch,[Batch_Size,1])\n",
    "    return data_batch,label_batch\n"
   ]
  },
  {
   "cell_type": "code",
   "execution_count": 3,
   "metadata": {
    "collapsed": true
   },
   "outputs": [],
   "source": [
    "X = tf.placeholder(tf.float32,[Batch_Size,feature_size],name='X_placeholder')\n",
    "Y = tf.placeholder(tf.int32,[Batch_Size],name='Y_placeholder')\n",
    "learning_rate = tf.placeholder(tf.float32)\n",
    "epsilon= tf.placeholder(tf.float32)\n",
    "Y_one_hot = tf.one_hot(Y,2)\n",
    "# w = tf.Variable([[0.1] for _ in range(9)],name=\"Weights\")\n",
    "w = tf.Variable(tf.truncated_normal(shape=[feature_size,2],stddev=0.1),name=\"Weights\")\n",
    "b = tf.Variable(tf.zeros([1, 2]),name=\"biases\")\n",
    "logits = tf.matmul(X,w) + b\n",
    "\n",
    "entropy = tf.nn.softmax_cross_entropy_with_logits(logits=logits,labels=Y_one_hot,name='loss')\n",
    "loss = tf.reduce_mean(entropy)\n",
    "optimizer = tf.train.AdamOptimizer(learning_rate=learning_rate,epsilon=epsilon).minimize(loss)"
   ]
  },
  {
   "cell_type": "code",
   "execution_count": 4,
   "metadata": {
    "collapsed": true
   },
   "outputs": [],
   "source": [
    "data_batch,label_batch = get_feature_label([\"heart_preprocessed.csv\"])"
   ]
  },
  {
   "cell_type": "code",
   "execution_count": 5,
   "metadata": {},
   "outputs": [],
   "source": [
    "final_features = []\n",
    "final_labels = []\n",
    "with tf.Session() as sess:\n",
    "    coord = tf.train.Coordinator()\n",
    "    threads = tf.train.start_queue_runners(coord=coord)\n",
    "    #print sess.run(key)\n",
    "    #data_batch,label_batch = sess.run([data_batch,label_batch])\n",
    "    for _ in range(90):\n",
    "        features,labels = sess.run([data_batch,label_batch])\n",
    "        final_features.append(features)\n",
    "        final_labels.append(labels)\n",
    "    coord.request_stop()\n",
    "    coord.join(threads)"
   ]
  },
  {
   "cell_type": "code",
   "execution_count": 6,
   "metadata": {},
   "outputs": [
    {
     "name": "stdout",
     "output_type": "stream",
     "text": [
      "90 90\n"
     ]
    }
   ],
   "source": [
    "print len(final_labels),len(final_features)"
   ]
  },
  {
   "cell_type": "code",
   "execution_count": 7,
   "metadata": {},
   "outputs": [
    {
     "name": "stdout",
     "output_type": "stream",
     "text": [
      "[False False False False False False False False False]\n"
     ]
    }
   ],
   "source": [
    "print tf.Session().run(tf.equal(final_features[0][0],final_features[-1][0]))"
   ]
  },
  {
   "cell_type": "code",
   "execution_count": 11,
   "metadata": {},
   "outputs": [
    {
     "name": "stdout",
     "output_type": "stream",
     "text": [
      "Accuracy at the epoch 0 is 0.777777777778\n",
      "Loss at the epoch 0 is 0.124560913848\n",
      "Accuracy at the epoch 1 is 0.822222222222\n",
      "Loss at the epoch 1 is 0.111926896962\n",
      "Accuracy at the epoch 2 is 0.844444444444\n",
      "Loss at the epoch 2 is 0.109529307227\n",
      "Accuracy at the epoch 3 is 0.866666666667\n",
      "Loss at the epoch 3 is 0.108700987108\n",
      "Accuracy at the epoch 4 is 0.866666666667\n",
      "Loss at the epoch 4 is 0.108397977256\n",
      "Accuracy at the epoch 5 is 0.866666666667\n",
      "Loss at the epoch 5 is 0.108292233613\n",
      "Accuracy at the epoch 6 is 0.866666666667\n",
      "Loss at the epoch 6 is 0.108262794511\n",
      "Accuracy at the epoch 7 is 0.866666666667\n",
      "Loss at the epoch 7 is 0.108262350751\n",
      "Accuracy at the epoch 8 is 0.866666666667\n",
      "Loss at the epoch 8 is 0.108271950851\n",
      "Accuracy at the epoch 9 is 0.866666666667\n",
      "Loss at the epoch 9 is 0.108284052323\n",
      "Accuracy at the epoch 10 is 0.866666666667\n",
      "Loss at the epoch 10 is 0.10829580062\n",
      "Accuracy at the epoch 11 is 0.866666666667\n",
      "Loss at the epoch 11 is 0.1083062637\n",
      "Accuracy at the epoch 12 is 0.866666666667\n",
      "Loss at the epoch 12 is 0.108315272427\n",
      "Accuracy at the epoch 13 is 0.866666666667\n",
      "Loss at the epoch 13 is 0.108322938283\n",
      "Accuracy at the epoch 14 is 0.866666666667\n",
      "Loss at the epoch 14 is 0.108329447994\n",
      "Accuracy at the epoch 15 is 0.866666666667\n",
      "Loss at the epoch 15 is 0.108335000571\n",
      "Accuracy at the epoch 16 is 0.866666666667\n",
      "Loss at the epoch 16 is 0.10833975452\n",
      "Accuracy at the epoch 17 is 0.866666666667\n",
      "Loss at the epoch 17 is 0.10834385072\n",
      "Accuracy at the epoch 18 is 0.866666666667\n",
      "Loss at the epoch 18 is 0.10834740117\n",
      "Accuracy at the epoch 19 is 0.866666666667\n",
      "Loss at the epoch 19 is 0.108350495792\n",
      "Accuracy at the epoch 20 is 0.866666666667\n",
      "Loss at the epoch 20 is 0.108353203535\n",
      "Accuracy at the epoch 21 is 0.866666666667\n",
      "Loss at the epoch 21 is 0.108355580546\n",
      "Accuracy at the epoch 22 is 0.866666666667\n",
      "Loss at the epoch 22 is 0.108357672927\n",
      "Accuracy at the epoch 23 is 0.866666666667\n",
      "Loss at the epoch 23 is 0.108359521959\n",
      "Accuracy at the epoch 24 is 0.866666666667\n",
      "Loss at the epoch 24 is 0.108361156745\n",
      "Accuracy at the epoch 25 is 0.866666666667\n",
      "Loss at the epoch 25 is 0.108362609038\n",
      "Accuracy at the epoch 26 is 0.866666666667\n",
      "Loss at the epoch 26 is 0.108363894401\n",
      "Accuracy at the epoch 27 is 0.866666666667\n",
      "Loss at the epoch 27 is 0.108365037853\n",
      "Accuracy at the epoch 28 is 0.866666666667\n",
      "Loss at the epoch 28 is 0.108366053561\n",
      "Accuracy at the epoch 29 is 0.866666666667\n",
      "Loss at the epoch 29 is 0.108366957564\n",
      "Accuracy at the epoch 30 is 0.866666666667\n",
      "Loss at the epoch 30 is 0.108367763625\n",
      "Accuracy at the epoch 31 is 0.866666666667\n",
      "Loss at the epoch 31 is 0.108368479028\n",
      "Accuracy at the epoch 32 is 0.866666666667\n",
      "Loss at the epoch 32 is 0.108369118122\n",
      "Accuracy at the epoch 33 is 0.866666666667\n",
      "Loss at the epoch 33 is 0.108369685985\n",
      "Accuracy at the epoch 34 is 0.866666666667\n",
      "Loss at the epoch 34 is 0.108370195274\n",
      "Accuracy at the epoch 35 is 0.866666666667\n",
      "Loss at the epoch 35 is 0.108370648637\n",
      "Accuracy at the epoch 36 is 0.866666666667\n",
      "Loss at the epoch 36 is 0.108371051189\n",
      "Accuracy at the epoch 37 is 0.866666666667\n",
      "Loss at the epoch 37 is 0.108371411062\n",
      "Accuracy at the epoch 38 is 0.866666666667\n",
      "Loss at the epoch 38 is 0.108371733699\n",
      "Accuracy at the epoch 39 is 0.866666666667\n",
      "Loss at the epoch 39 is 0.10837202017\n",
      "Accuracy at the epoch 40 is 0.866666666667\n",
      "Loss at the epoch 40 is 0.10837227658\n",
      "Accuracy at the epoch 41 is 0.866666666667\n",
      "Loss at the epoch 41 is 0.108372505432\n",
      "Accuracy at the epoch 42 is 0.866666666667\n",
      "Loss at the epoch 42 is 0.108372711068\n",
      "Accuracy at the epoch 43 is 0.866666666667\n",
      "Loss at the epoch 43 is 0.10837289301\n",
      "Accuracy at the epoch 44 is 0.866666666667\n",
      "Loss at the epoch 44 is 0.108373058799\n",
      "Accuracy at the epoch 45 is 0.866666666667\n",
      "Loss at the epoch 45 is 0.108373201335\n",
      "Accuracy at the epoch 46 is 0.866666666667\n",
      "Loss at the epoch 46 is 0.1083733339\n",
      "Accuracy at the epoch 47 is 0.866666666667\n",
      "Loss at the epoch 47 is 0.108373452042\n",
      "Accuracy at the epoch 48 is 0.866666666667\n",
      "Loss at the epoch 48 is 0.108373555283\n",
      "Accuracy at the epoch 49 is 0.866666666667\n",
      "Loss at the epoch 49 is 0.108373650614\n",
      "0.01_1e-10_model.ckpt\n"
     ]
    }
   ],
   "source": [
    "saver = tf.train.Saver()\n",
    "\n",
    "with tf.Session() as sess:\n",
    "    \n",
    "    learning_rate_list = [1e-2]\n",
    "    epsilon_list = [1e-10]\n",
    "#     learning_rate_list = [1e-1,1e-2,1e-4,1e-6]\n",
    "#     epsilon_list = [1e-7,1e-8,1e-9,1e-10] \n",
    "    accuracies = {}\n",
    "    sess.run(tf.global_variables_initializer())\n",
    "    for lr in learning_rate_list:\n",
    "        for ep in epsilon_list:\n",
    "            for epoch in range(50):\n",
    "                total_loss = 0\n",
    "                test_count = 0\n",
    "                train_count = 0\n",
    "                total_correct_preds = 0\n",
    "                #print len(final_features)\n",
    "                for i in range(len(final_features)):\n",
    "                    temp_labels = final_labels[i]\n",
    "        #             temp_labels = np.reshape(temp_labels,(-1,1))\n",
    "                    temp_features = final_features[i]\n",
    "                    if i<=80: \n",
    "                        train_count+=len(temp_features)\n",
    "                        _,l,weight,bias = sess.run([optimizer,loss,w,b],feed_dict={X:temp_features,Y:temp_labels,learning_rate:lr,epsilon:ep})\n",
    "                        total_loss+=l\n",
    "                    else:\n",
    "                        test_count+=len(temp_features)\n",
    "                        _,l,Y_predicted= sess.run([optimizer,loss,logits],feed_dict={X:temp_features,Y:temp_labels,learning_rate:lr,epsilon:ep})\n",
    "                        preds_prob = tf.nn.softmax(Y_predicted)\n",
    "                        max_preds = tf.argmax(preds_prob,1)\n",
    "                        correct_preds = tf.equal(max_preds,temp_labels)\n",
    "                        non_zero = tf.count_nonzero(correct_preds)\n",
    "                        accuracy = tf.reduce_sum(non_zero)\n",
    "                        total_correct_preds += sess.run(accuracy)\n",
    "                        #print sess.run(max_preds),temp_labels,sess.run(accuracy),sess.run(non_zero)\n",
    "                print 'Accuracy at the epoch {0} is {1}'.format(epoch,total_correct_preds/float(test_count))\n",
    "                print 'Loss at the epoch {0} is {1}'.format(epoch,total_loss/float(train_count))\n",
    "                #accuracies[str(lr)+'_'+str(ep)+'_'+str(epoch)] = [total_correct_preds/float(test_count),total_loss/float(train_count)]\n",
    "                #print str(lr)+'_'+str(ep)+'_'+str(epoch),accuracies[str(lr)+'_'+str(ep)+'_'+str(epoch)]\n",
    "                \n",
    "            save_path = saver.save(sess, str(lr)+'_'+str(ep)+\"_model.ckpt\")\n",
    "            print save_path"
   ]
  },
  {
   "cell_type": "code",
   "execution_count": null,
   "metadata": {},
   "outputs": [],
   "source": [
    "#1e-2,1e-10 = 86.7% 0.01_1e-10_model.ckpt is the best model"
   ]
  }
 ],
 "metadata": {
  "kernelspec": {
   "display_name": "stanford-tf",
   "language": "python",
   "name": "stanfor-tf"
  },
  "language_info": {
   "codemirror_mode": {
    "name": "ipython",
    "version": 2
   },
   "file_extension": ".py",
   "mimetype": "text/x-python",
   "name": "python",
   "nbconvert_exporter": "python",
   "pygments_lexer": "ipython2",
   "version": "2.7.6"
  }
 },
 "nbformat": 4,
 "nbformat_minor": 2
}
