{
 "cells": [
  {
   "cell_type": "code",
   "execution_count": 1,
   "metadata": {
    "collapsed": true
   },
   "outputs": [],
   "source": [
    "import tensorflow as tf"
   ]
  },
  {
   "cell_type": "markdown",
   "metadata": {},
   "source": [
    "x + y if x > y, and x - y otherwise."
   ]
  },
  {
   "cell_type": "code",
   "execution_count": 16,
   "metadata": {},
   "outputs": [
    {
     "name": "stdout",
     "output_type": "stream",
     "text": [
      "[-0.14508963, 0.17024755, 0.31533718]\n"
     ]
    }
   ],
   "source": [
    "\n",
    "x = tf.random_uniform([],-1,1)\n",
    "y = tf.random_uniform([],-1,1)\n",
    "out = tf.cond(tf.greater(x,y),lambda:tf.add(x,y),lambda:tf.sub(x,y))\n",
    "with tf.Session() as sess:\n",
    "    print sess.run([out,x,y])"
   ]
  },
  {
   "cell_type": "markdown",
   "metadata": {},
   "source": [
    "x + y if x < y, x - y if x > y, 0 otherwise."
   ]
  },
  {
   "cell_type": "code",
   "execution_count": 21,
   "metadata": {},
   "outputs": [
    {
     "name": "stdout",
     "output_type": "stream",
     "text": [
      "[0.56042695, 0.16860509, 0.39182186]\n"
     ]
    }
   ],
   "source": [
    "x = tf.random_uniform([],-1,1)\n",
    "y = tf.random_uniform([],-1,1)\n",
    "out = tf.case({tf.less(x,y):lambda:tf.add(x,y),tf.greater(x,y):lambda:tf.sub(x,y)},default=lambda:tf.constant(0.0),exclusive=True)\n",
    "with tf.Session() as sess:\n",
    "    print sess.run([out,x,y])"
   ]
  },
  {
   "cell_type": "markdown",
   "metadata": {},
   "source": [
    "Create the tensor x of the value [[0, -2, -1], [0, 1, 2]] \n",
    "and y as a tensor of zeros with the same shape as x.\n",
    "Return a boolean tensor that yields Trues if x equals y element-wise."
   ]
  },
  {
   "cell_type": "code",
   "execution_count": 27,
   "metadata": {},
   "outputs": [
    {
     "name": "stdout",
     "output_type": "stream",
     "text": [
      "[array([[ True, False, False],\n",
      "       [ True, False, False]], dtype=bool), array([[ 0, -2, -1],\n",
      "       [ 0,  1,  2]], dtype=int32), array([[0, 0, 0],\n",
      "       [0, 0, 0]], dtype=int32)]\n"
     ]
    }
   ],
   "source": [
    "x = tf.constant([[0,-2,-1],[0,1,2]])\n",
    "y = tf.zeros_like(x)\n",
    "out = tf.equal(x,y)\n",
    "with tf.Session() as sess:\n",
    "    print sess.run([out,x,y])"
   ]
  },
  {
   "cell_type": "markdown",
   "metadata": {},
   "source": [
    " [29.05088806,  27.61298943,  31.19073486,  29.35532951,\n",
    " 30.97266006,  26.67541885,  38.08450317,  20.74983215,\n",
    " 34.94445419,  34.45999146,  29.06485367,  36.01657104,\n",
    " 27.88236427,  20.56035233,  30.20379066,  29.51215172,\n",
    " 33.71149445,  28.59134293,  36.05556488,  28.66994858].\n",
    "Get the indices of elements in x whose values are greater than 30.\n",
    "Hint: Use tf.where().\n",
    "Then extract elements whose values are greater than 30."
   ]
  },
  {
   "cell_type": "code",
   "execution_count": 32,
   "metadata": {},
   "outputs": [
    {
     "name": "stdout",
     "output_type": "stream",
     "text": [
      "[[ 31.19073486]\n",
      " [ 30.97266006]\n",
      " [ 38.08450317]\n",
      " [ 34.94445419]\n",
      " [ 34.45999146]\n",
      " [ 36.01657104]\n",
      " [ 30.20379066]\n",
      " [ 33.71149445]\n",
      " [ 36.05556488]]\n"
     ]
    }
   ],
   "source": [
    "x = tf.constant([29.05088806,  27.61298943,  31.19073486,  29.35532951,\n",
    "30.97266006,  26.67541885,  38.08450317,  20.74983215,\n",
    "34.94445419,  34.45999146,  29.06485367,  36.01657104,\n",
    "27.88236427,  20.56035233,  30.20379066,  29.51215172,\n",
    "33.71149445,  28.59134293,  36.05556488,  28.66994858])\n",
    "indices = tf.where(x>30)\n",
    "result = tf.gather(x,indices)\n",
    "with tf.Session() as sess:\n",
    "    print sess.run(result)"
   ]
  },
  {
   "cell_type": "markdown",
   "metadata": {},
   "source": [
    "Create a diagnoal 2-d tensor of size 6 x 6 with the diagonal values of 1,2, ..., 6"
   ]
  },
  {
   "cell_type": "code",
   "execution_count": 34,
   "metadata": {},
   "outputs": [
    {
     "name": "stdout",
     "output_type": "stream",
     "text": [
      "[[1 0 0 0 0 0]\n",
      " [0 2 0 0 0 0]\n",
      " [0 0 3 0 0 0]\n",
      " [0 0 0 4 0 0]\n",
      " [0 0 0 0 5 0]\n",
      " [0 0 0 0 0 6]]\n"
     ]
    }
   ],
   "source": [
    "values = tf.range(1,7,1)\n",
    "out = tf.diag(values)\n",
    "with tf.Session() as sess:\n",
    "    print sess.run(out)"
   ]
  },
  {
   "cell_type": "markdown",
   "metadata": {},
   "source": [
    "Create a random 2-d tensor of size 10 x 10 from any distribution.\n",
    "Calculate its determinant."
   ]
  },
  {
   "cell_type": "code",
   "execution_count": 39,
   "metadata": {},
   "outputs": [
    {
     "name": "stdout",
     "output_type": "stream",
     "text": [
      "-1.18073\n"
     ]
    }
   ],
   "source": [
    "matrix = tf.random_uniform([10,10],-1,1)\n",
    "out = tf.matrix_determinant(matrix)\n",
    "with tf.Session() as sess:\n",
    "    print sess.run(out)"
   ]
  },
  {
   "cell_type": "markdown",
   "metadata": {},
   "source": [
    "Create tensor x with value [5, 2, 3, 5, 10, 6, 2, 3, 4, 2, 1, 1, 0, 9].\n",
    "Return the unique elements in x"
   ]
  },
  {
   "cell_type": "code",
   "execution_count": 40,
   "metadata": {},
   "outputs": [
    {
     "name": "stdout",
     "output_type": "stream",
     "text": [
      "[ 5  2  3 10  6  4  1  0  9]\n"
     ]
    }
   ],
   "source": [
    "x = tf.constant([5, 2, 3, 5, 10, 6, 2, 3, 4, 2, 1, 1, 0, 9])\n",
    "unique_values,indices = tf.unique(x)\n",
    "with tf.Session() as sess:\n",
    "    print sess.run(unique_values)"
   ]
  },
  {
   "cell_type": "markdown",
   "metadata": {},
   "source": [
    "Create two tensors x and y of shape 300 from any normal distribution,\n",
    "as long as they are from the same distribution.\n",
    "Use tf.less() and tf.select() to return:\n",
    "- The mean squared error of (x - y) if the average of all elements in (x - y)\n",
    "  is negative, or\n",
    "- The sum of absolute value of all elements in the tensor (x - y) otherwise."
   ]
  },
  {
   "cell_type": "code",
   "execution_count": 50,
   "metadata": {},
   "outputs": [
    {
     "name": "stdout",
     "output_type": "stream",
     "text": [
      "1.80022\n"
     ]
    }
   ],
   "source": [
    "# x = tf.constant([1,2,3,4])\n",
    "# y = tf.constant([1,2,51,41])\n",
    "x = tf.random_normal([300])\n",
    "y = tf.random_normal([300])\n",
    "average = tf.reduce_mean(x-y)\n",
    "condition = tf.less(average,0)\n",
    "mean_sq_error = tf.reduce_mean(tf.squared_difference(x,y))\n",
    "# mean_sq_error = tf.reduce_mean(tf.square(x-y))\n",
    "sum_of_abso = tf.reduce_sum(tf.abs(x-1))\n",
    "out = tf.select(condition,mean_sq_error,sum_of_abso)\n",
    "with tf.Session() as sess:\n",
    "    print sess.run(out)"
   ]
  }
 ],
 "metadata": {
  "kernelspec": {
   "display_name": "stanford-tf",
   "language": "python",
   "name": "stanfor-tf"
  },
  "language_info": {
   "codemirror_mode": {
    "name": "ipython",
    "version": 2
   },
   "file_extension": ".py",
   "mimetype": "text/x-python",
   "name": "python",
   "nbconvert_exporter": "python",
   "pygments_lexer": "ipython2",
   "version": "2.7.6"
  }
 },
 "nbformat": 4,
 "nbformat_minor": 2
}
